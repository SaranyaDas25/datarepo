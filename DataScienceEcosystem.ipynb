{
 "cells": [
  {
   "cell_type": "code",
   "execution_count": null,
   "id": "8e7dd295",
   "metadata": {},
   "outputs": [],
   "source": [
    "Data Science Tools and Ecosystem"
   ]
  },
  {
   "cell_type": "code",
   "execution_count": null,
   "id": "37e71652",
   "metadata": {},
   "outputs": [],
   "source": [
    "In this notebook, Data Science Tools and Ecosystem are summarized."
   ]
  },
  {
   "cell_type": "code",
   "execution_count": null,
   "id": "525abf5d",
   "metadata": {},
   "outputs": [],
   "source": [
    "Some of the popular languages that Data Scientists use are:\n",
    "    Python\n",
    "    Java\n",
    "    R\n",
    "    SQL\n",
    "    Javascript"
   ]
  },
  {
   "cell_type": "code",
   "execution_count": null,
   "id": "ec88e6a0",
   "metadata": {},
   "outputs": [],
   "source": [
    "Some of the commonly used libraries used by Data Scientists include:\n",
    "    NumPy\n",
    "    Matplotlib\n",
    "    Pandas\n",
    "    SciPy\n",
    "    PyTorch"
   ]
  },
  {
   "cell_type": "code",
   "execution_count": null,
   "id": "354462ed",
   "metadata": {},
   "outputs": [],
   "source": [
    "Data Science Tools:\n",
    "    Jupyter Notebook\n",
    "    Apache Spark\n",
    "    MATLAB\n",
    "    Keras"
   ]
  },
  {
   "cell_type": "code",
   "execution_count": null,
   "id": "87d24954",
   "metadata": {},
   "outputs": [],
   "source": [
    "Below are a few examples of evaluating arithmetic expressions in Python"
   ]
  },
  {
   "cell_type": "code",
   "execution_count": 1,
   "id": "035f2a2c",
   "metadata": {},
   "outputs": [
    {
     "data": {
      "text/plain": [
       "17"
      ]
     },
     "execution_count": 1,
     "metadata": {},
     "output_type": "execute_result"
    }
   ],
   "source": [
    "(3*4)+5"
   ]
  },
  {
   "cell_type": "code",
   "execution_count": 2,
   "id": "b9fe1dbd",
   "metadata": {},
   "outputs": [
    {
     "data": {
      "text/plain": [
       "3.3333333333333335"
      ]
     },
     "execution_count": 2,
     "metadata": {},
     "output_type": "execute_result"
    }
   ],
   "source": [
    "(200/60)"
   ]
  },
  {
   "cell_type": "code",
   "execution_count": 3,
   "id": "e8f79a6c",
   "metadata": {},
   "outputs": [
    {
     "data": {
      "text/plain": [
       "20"
      ]
     },
     "execution_count": 3,
     "metadata": {},
     "output_type": "execute_result"
    }
   ],
   "source": [
    "200%60"
   ]
  },
  {
   "cell_type": "code",
   "execution_count": 4,
   "id": "87f57cff",
   "metadata": {},
   "outputs": [
    {
     "data": {
      "text/plain": [
       "3"
      ]
     },
     "execution_count": 4,
     "metadata": {},
     "output_type": "execute_result"
    }
   ],
   "source": [
    "200//60"
   ]
  },
  {
   "cell_type": "code",
   "execution_count": null,
   "id": "a18785ee",
   "metadata": {},
   "outputs": [],
   "source": [
    "200 minutes is 3 hours 20 minutes"
   ]
  },
  {
   "cell_type": "code",
   "execution_count": null,
   "id": "3556f5e0",
   "metadata": {},
   "outputs": [],
   "source": [
    "Objectives:\n",
    "    1. Popular languages used for Data Science\n",
    "    2. Popular Tools used for Data Science\n",
    "    3. Commonly Used Libraries\n",
    "    4. Examples of Arithmetic Expressions"
   ]
  },
  {
   "cell_type": "code",
   "execution_count": null,
   "id": "58f590a6",
   "metadata": {},
   "outputs": [],
   "source": [
    "Author:\n",
    "    Saranya Das"
   ]
  }
 ],
 "metadata": {
  "kernelspec": {
   "display_name": "Python 3 (ipykernel)",
   "language": "python",
   "name": "python3"
  },
  "language_info": {
   "codemirror_mode": {
    "name": "ipython",
    "version": 3
   },
   "file_extension": ".py",
   "mimetype": "text/x-python",
   "name": "python",
   "nbconvert_exporter": "python",
   "pygments_lexer": "ipython3",
   "version": "3.10.9"
  }
 },
 "nbformat": 4,
 "nbformat_minor": 5
}
